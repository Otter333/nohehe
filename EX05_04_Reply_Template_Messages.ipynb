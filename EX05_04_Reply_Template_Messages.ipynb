{
  "nbformat": 4,
  "nbformat_minor": 0,
  "metadata": {
    "colab": {
      "provenance": [],
      "authorship_tag": "ABX9TyO33FUTIp8ZE0OJD4AYrgxH",
      "include_colab_link": true
    },
    "kernelspec": {
      "name": "python3",
      "display_name": "Python 3"
    },
    "language_info": {
      "name": "python"
    }
  },
  "cells": [
    {
      "cell_type": "markdown",
      "metadata": {
        "id": "view-in-github",
        "colab_type": "text"
      },
      "source": [
        "<a href=\"https://colab.research.google.com/github/Otter333/nohehe/blob/main/EX05_04_Reply_Template_Messages.ipynb\" target=\"_parent\"><img src=\"https://colab.research.google.com/assets/colab-badge.svg\" alt=\"Open In Colab\"/></a>"
      ]
    },
    {
      "cell_type": "code",
      "execution_count": null,
      "metadata": {
        "id": "yFdaxci76quN",
        "colab": {
          "base_uri": "https://localhost:8080/"
        },
        "outputId": "246a21bc-0689-4a4e-9fa8-fe9e167112b8"
      },
      "outputs": [
        {
          "metadata": {
            "tags": null
          },
          "name": "stdout",
          "output_type": "stream",
          "text": [
            "ngrok URL: NgrokTunnel: \"https://822a-34-75-168-67.ngrok-free.app\" -> \"http://localhost:5000\"\n",
            " * Serving Flask app '__main__'\n",
            " * Debug mode: off\n"
          ]
        },
        {
          "metadata": {
            "tags": null
          },
          "name": "stderr",
          "output_type": "stream",
          "text": [
            "INFO:werkzeug:\u001b[31m\u001b[1mWARNING: This is a development server. Do not use it in a production deployment. Use a production WSGI server instead.\u001b[0m\n",
            " * Running on http://127.0.0.1:5000\n",
            "INFO:werkzeug:\u001b[33mPress CTRL+C to quit\u001b[0m\n"
          ]
        }
      ],
      "source": [
        "# 安装必要的库\n",
        "!pip install -q pyngrok\n",
        "!pip install -q flask\n",
        "!pip install -q line-bot-sdk\n",
        "\n",
        "# 导入模块\n",
        "from flask import Flask, request, abort\n",
        "from linebot.v3 import WebhookHandler\n",
        "from linebot.v3.exceptions import InvalidSignatureError\n",
        "from linebot.v3.webhooks import MessageEvent, TextMessageContent\n",
        "from linebot.v3.messaging import (\n",
        "    Configuration,\n",
        "    ApiClient,\n",
        "    MessagingApi,\n",
        "    ReplyMessageRequest,\n",
        "    TextMessage,\n",
        "    TemplateMessage,\n",
        "    ConfirmTemplate,\n",
        "    MessageAction,\n",
        "    CarouselColumn,\n",
        "    URIAction,\n",
        "    PostbackAction\n",
        ")\n",
        "from google.colab import userdata\n",
        "from pyngrok import ngrok\n",
        "\n",
        "# 初始化 Flask 应用\n",
        "app = Flask(__name__)\n",
        "\n",
        "# 配置 LINE Bot\n",
        "configuration = Configuration(access_token=userdata.get('LINE_CHANNEL_ACCESS_TOKEN'))\n",
        "handler = WebhookHandler(userdata.get('LINE_CHANNEL_SECRET'))\n",
        "\n",
        "# 定义 webhook 回调\n",
        "@app.route(\"/callback\", methods=['POST'])\n",
        "def callback():\n",
        "    signature = request.headers['X-LINE-SIGNATURE']\n",
        "    body = request.get_data(as_text=True)\n",
        "    try:\n",
        "        handler.handle(body, signature)\n",
        "    except InvalidSignatureError:\n",
        "        abort(400)\n",
        "    return 'OK'\n",
        "\n",
        "# 处理消息事件\n",
        "@handler.add(MessageEvent, message=TextMessageContent)\n",
        "def handle_message(event):\n",
        "    with ApiClient(configuration) as api_client:\n",
        "        line_bot_api = MessagingApi(api_client)\n",
        "\n",
        "        action = event.message.text\n",
        "        if action == 'confirm':\n",
        "            reply = TemplateMessage(\n",
        "                alt_text=\"這是確認視窗\",\n",
        "                template=ConfirmTemplate(\n",
        "                    text=\"你喜歡葬送的芙莉蓮嗎?\",\n",
        "                    actions=[\n",
        "                        MessageAction(label=\"是\", text=\"我超喜歡芙莉蓮!\"),\n",
        "                        MessageAction(label=\"否\", text=\"其實我非常喜歡，只是我要傲嬌的說不\")\n",
        "                    ]\n",
        "                )\n",
        "            )\n",
        "        elif action == 'carousel':\n",
        "            carousel_template = CarouselTemplate(\n",
        "                columns=[\n",
        "                    CarouselColumn(\n",
        "                        thumbnail_image_url=\"https://upload.wikimedia.org/wikipedia/zh/7/7d/Summer_Wars_poster.jpg\",\n",
        "                        title=\"夏日大作戰\",\n",
        "                        text=\"細田守導演的日本科幻暨曼電影\",\n",
        "                        actions=[\n",
        "                            URIAction(label=\"維基百科\", uri=\"https://zh.wikipedia.org/zh-tw/夏日大戰#影片介紹\")，\n",
        "                            MessageAction(label=\"投票\", text=\"我投夏日大作戰一票！\")\n",
        "                        ]\n",
        "                    ),\n",
        "                    CarouselColumn(\n",
        "                        thumbnail_image_url=\"https://upload.wikimedia.org/wikipedia/zh/thumb/4/4f/Castle_of_Cagliostro_poster.png/250px-Castle_of_Cagliostro_poster.png\",\n",
        "                        title=\"魯邦三世:卡里奧斯特羅城\",\n",
        "                        text=\"宮崎駿導演的日本動畫動作冒險喜劇電影\",\n",
        "                        actions=[\n",
        "                            URIAction(label=\"維基百科\", uri=\"https://zh.wikipedia.org/wiki/魯邦三世：卡里奧斯特羅城\")，\n",
        "                            MessageAction(label=\"投票\", text=\"我投魯邦三世:卡里奧斯特羅城一票！\")\n",
        "                        ]\n",
        "                    )\n",
        "                ]\n",
        "            )\n",
        "            reply = TemplateMessage(\n",
        "                alt_text=\"輪播範例\",\n",
        "                template=carousel_template\n",
        "            )\n",
        "        else:\n",
        "            reply = TextMessage(text=\"Thanks!\")\n",
        "\n",
        "        line_bot_api.reply_message(\n",
        "            ReplyMessageRequest(\n",
        "                reply_token=event.reply_token,\n",
        "                messages=[reply]\n",
        "            )\n",
        "        )\n",
        "\n",
        "# 运行应用（使用 ngrok 进行端口映射）\n",
        "if __name__ == \"__main__\":\n",
        "    ngrok.set_auth_token(userdata.get('NGROK_AUTHTOKEN'))\n",
        "    public_url = ngrok.connect(5000)\n",
        "    print(f\"ngrok URL: {public_url}\")\n",
        "    app.run()"
      ]
    }
  ]
}