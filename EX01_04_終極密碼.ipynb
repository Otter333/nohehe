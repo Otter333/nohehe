{
  "nbformat": 4,
  "nbformat_minor": 0,
  "metadata": {
    "colab": {
      "provenance": [],
      "authorship_tag": "ABX9TyMZ+J1xtN7CRAxdpBZJFcdR",
      "include_colab_link": true
    },
    "kernelspec": {
      "name": "python3",
      "display_name": "Python 3"
    },
    "language_info": {
      "name": "python"
    }
  },
  "cells": [
    {
      "cell_type": "markdown",
      "metadata": {
        "id": "view-in-github",
        "colab_type": "text"
      },
      "source": [
        "<a href=\"https://colab.research.google.com/github/Otter333/nohehe/blob/main/EX01_04_%E7%B5%82%E6%A5%B5%E5%AF%86%E7%A2%BC.ipynb\" target=\"_parent\"><img src=\"https://colab.research.google.com/assets/colab-badge.svg\" alt=\"Open In Colab\"/></a>"
      ]
    },
    {
      "cell_type": "code",
      "execution_count": 3,
      "metadata": {
        "colab": {
          "base_uri": "https://localhost:8080/"
        },
        "id": "moUu6ZiH7BFn",
        "outputId": "e6313e3e-ad39-4f9c-97e0-f4fc4c0feea3"
      },
      "outputs": [
        {
          "output_type": "stream",
          "name": "stdout",
          "text": [
            "0 - 100\n",
            "guess:3\n",
            "3 - 100\n",
            "guess:5\n",
            "5 - 100\n",
            "guess:20\n",
            "20 - 100\n",
            "guess:50\n",
            "50 - 100\n",
            "guess:78\n",
            "78 - 100\n",
            "guess:90\n",
            "90 - 100\n",
            "guess:99\n",
            "90 - 99\n",
            "guess:95\n",
            "90 - 95\n",
            "guess:93\n",
            "90 - 93\n",
            "guess:92\n",
            "90 - 92\n",
            "guess:91\n",
            "猜中了\n"
          ]
        }
      ],
      "source": [
        "import random\n",
        "bomb=random.randint(1,100)\n",
        "lt=0\n",
        "rt=100\n",
        "while True:\n",
        "  print(lt,'-',rt)\n",
        "  gu=int(input('guess:'))\n",
        "  if gu<=lt or gu>=rt:\n",
        "    print('超過範圍')\n",
        "  elif gu<bomb:\n",
        "    lt=gu\n",
        "  elif gu>bomb:\n",
        "    rt=gu\n",
        "  else:\n",
        "    print('猜中了')\n",
        "    break"
      ]
    }
  ]
}