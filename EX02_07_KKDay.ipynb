{
  "nbformat": 4,
  "nbformat_minor": 0,
  "metadata": {
    "colab": {
      "provenance": [],
      "authorship_tag": "ABX9TyNeMBL/XKVfiM4/W8eNNyPs",
      "include_colab_link": true
    },
    "kernelspec": {
      "name": "python3",
      "display_name": "Python 3"
    },
    "language_info": {
      "name": "python"
    }
  },
  "cells": [
    {
      "cell_type": "markdown",
      "metadata": {
        "id": "view-in-github",
        "colab_type": "text"
      },
      "source": [
        "<a href=\"https://colab.research.google.com/github/Otter333/nohehe/blob/main/EX02_07_KKDay.ipynb\" target=\"_parent\"><img src=\"https://colab.research.google.com/assets/colab-badge.svg\" alt=\"Open In Colab\"/></a>"
      ]
    },
    {
      "cell_type": "code",
      "execution_count": 1,
      "metadata": {
        "colab": {
          "base_uri": "https://localhost:8080/"
        },
        "id": "BonuSEkiFIC4",
        "outputId": "5c6907dc-6ba2-4b6f-efcd-9bda8ff21300"
      },
      "outputs": [
        {
          "output_type": "execute_result",
          "data": {
            "text/plain": [
              "<title>最熱門 東京 住宿 - 2025 更新 - KKday</title>"
            ]
          },
          "metadata": {},
          "execution_count": 1
        }
      ],
      "source": [
        "import requests\n",
        "from bs4 import BeautifulSoup\n",
        "\n",
        "url = 'https://www.kkday.com/zh-tw/category/jp-tokyo/accommodation'\n",
        "headers = {\n",
        "    'user-agent': 'Mozilla/5.0 (Windows NT 10.0; Win64; x64) AppleWebKit/537.36 (KHTML, like Gecko) Chrome/129.0.0.0 Safari/537.36'\n",
        "}\n",
        "response = requests.get(url, headers=headers)\n",
        "soup = BeautifulSoup(response.text, 'lxml')\n",
        "\n",
        "soup.title  # 查看標題"
      ]
    },
    {
      "cell_type": "code",
      "source": [
        "import requests\n",
        "\n",
        "url = 'https://www.kkday.com/zh-tw/category/ajax_get_top_products?productCategory=CATEGORY_078&destination=D-JP-3261'\n",
        "headers = {\n",
        "    'user-agent': 'Mozilla/5.0 (Windows NT 10.0; Win64; x64) AppleWebKit/537.36 (KHTML, like Gecko) Chrome/129.0.0.0 Safari/537.36'\n",
        "}\n",
        "response = requests.get(url, headers=headers)\n",
        "hotels = response.json()\n",
        "hotels['data'][0]  # 顯示第一筆資料"
      ],
      "metadata": {
        "colab": {
          "base_uri": "https://localhost:8080/"
        },
        "id": "VbcSiKGhF00k",
        "outputId": "e7698628-8673-424f-f3a3-85d04b06dad2"
      },
      "execution_count": 3,
      "outputs": [
        {
          "output_type": "execute_result",
          "data": {
            "text/plain": [
              "{'id': 192397,\n",
              " 'prod_oid': 192397,\n",
              " 'name': 'APA飯店及度假村 東京灣潮見',\n",
              " 'introduction': 'APA飯店及度假村 東京灣潮見,位於潮見地區,適合家庭旅客。馬上預訂,享受便利的東京灣之行!',\n",
              " 'rating_count': 0,\n",
              " 'rating_star': 0,\n",
              " 'order_count': 2,\n",
              " 'show_order_count': '',\n",
              " 'confirm_hour': 0,\n",
              " 'instant_booking': True,\n",
              " 'instant_use': True,\n",
              " 'free_refund_policy': True,\n",
              " 'free_refund_before_day': 1,\n",
              " 'earliest_sale_date': '20250416',\n",
              " 'sale_status': '1',\n",
              " 'purchase_type': None,\n",
              " 'purchase_date': None,\n",
              " 'is_tourism_product': True,\n",
              " 'readable_url': None,\n",
              " 'main_cat_key': 'M01',\n",
              " 'product_category': {'main': 'CATEGORY_078', 'sub': []},\n",
              " 'promo_tag_keys': [],\n",
              " 'cat_key': ['TAG_6_1'],\n",
              " 'theme_code': [],\n",
              " 'product_labels': [],\n",
              " 'img_url': 'https://image.kkday.com/image/get/w_600%2Cc_fit/s1.kkday.com/product_192397/20241006214013_w9bLi/png',\n",
              " 'img_url_list': ['https://image.kkday.com/image/get/w_600%2Cc_fit/s1.kkday.com/product_192397/20241006214013_w9bLi/png',\n",
              "  'https://image.kkday.com/image/get/w_600%2Cc_fit/s1.kkday.com/product_192397/20241006214013_n4C16/png',\n",
              "  'https://image.kkday.com/image/get/w_600%2Cc_fit/s1.kkday.com/product_192397/20241006214013_fTfM0/png',\n",
              "  'https://image.kkday.com/image/get/w_600%2Cc_fit/s1.kkday.com/product_192397/20241006214013_S1x81/png',\n",
              "  'https://image.kkday.com/image/get/w_600%2Cc_fit/s1.kkday.com/product_192397/20241006214013_hf9dZ/png'],\n",
              " 'duration': 0,\n",
              " 'days': 0,\n",
              " 'hours': 0,\n",
              " 'minutes': 0,\n",
              " 'currency': 'TWD',\n",
              " 'display_sale_price': '1,695',\n",
              " 'sale_price': 1695,\n",
              " 'display_price': '1,695',\n",
              " 'price': 1695,\n",
              " 'discount': 0,\n",
              " 'is_display_price': False,\n",
              " 'app_cheaper_than_web': False,\n",
              " 'max_price': 15806,\n",
              " 'countries': [{'id': 'A01-003',\n",
              "   'name': '日本',\n",
              "   'cities': [{'id': 'A01-003-99999', 'name': '所有城市'},\n",
              "    {'id': 'A01-003-00001', 'name': '東京'}]}],\n",
              " 'is_marketplace': False,\n",
              " 'supplier_oid_list': ['21011'],\n",
              " 'supplier_name': None,\n",
              " 'supplier_logo': None,\n",
              " 'supplier_award': 0,\n",
              " 'supplier_badge': 0,\n",
              " 'is_zero_price': False,\n",
              " 'destinations': [{'code': 'D-JP-3261', 'name': '東京'},\n",
              "  {'code': 'D-JP-3218', 'name': '關東'},\n",
              "  {'code': 'D-JP-112', 'name': '日本'}]}"
            ]
          },
          "metadata": {},
          "execution_count": 3
        }
      ]
    },
    {
      "cell_type": "code",
      "source": [
        "from IPython.display import Image, display\n",
        "\n",
        "for hotel in hotels['data']:\n",
        "    print(hotel['name'], hotel['rating_star'], hotel['sale_price'])\n",
        "    print(hotel['introduction'])\n",
        "    display(Image(url=hotel['img_url'], width=300))\n",
        "    print('-' * 3)\n",
        "    print()"
      ],
      "metadata": {
        "colab": {
          "base_uri": "https://localhost:8080/",
          "height": 1000
        },
        "id": "xszfhBk4GINY",
        "outputId": "82700886-ddc6-41b3-d28f-881ed68fe47e"
      },
      "execution_count": 4,
      "outputs": [
        {
          "output_type": "stream",
          "name": "stdout",
          "text": [
            "APA飯店及度假村 東京灣潮見 0 1695\n",
            "APA飯店及度假村 東京灣潮見,位於潮見地區,適合家庭旅客。馬上預訂,享受便利的東京灣之行!\n"
          ]
        },
        {
          "output_type": "display_data",
          "data": {
            "text/html": [
              "<img src=\"https://image.kkday.com/image/get/w_600%2Cc_fit/s1.kkday.com/product_192397/20241006214013_w9bLi/png\" width=\"300\"/>"
            ],
            "text/plain": [
              "<IPython.core.display.Image object>"
            ]
          },
          "metadata": {}
        },
        {
          "output_type": "stream",
          "name": "stdout",
          "text": [
            "---\n",
            "\n",
            "APA 飯店 - 鳥取站北 0 1695\n",
            "2016 年 6 月 17 日開幕,巢鴨站前全新落成、附設大浴場的酒店! 從山手線 巢鴨站 搭乘普通電車 (3分鐘)\n"
          ]
        },
        {
          "output_type": "display_data",
          "data": {
            "text/html": [
              "<img src=\"https://image.kkday.com/image/get/w_600%2Cc_fit/s1.kkday.com/product_193071/20241007044414_aZTd2/png\" width=\"300\"/>"
            ],
            "text/plain": [
              "<IPython.core.display.Image object>"
            ]
          },
          "metadata": {}
        },
        {
          "output_type": "stream",
          "name": "stdout",
          "text": [
            "---\n",
            "\n",
            "東京押上京成里士滿飯店 5 2767\n",
            "東京押上京成里士滿飯店,距離押上站步行可達,提供舒適住宿。即刻預訂,享受東京的都市生活!\n"
          ]
        },
        {
          "output_type": "display_data",
          "data": {
            "text/html": [
              "<img src=\"https://image.kkday.com/image/get/w_600%2Cc_fit/s1.kkday.com/product_192442/20241012060315_EdJAk/png\" width=\"300\"/>"
            ],
            "text/plain": [
              "<IPython.core.display.Image object>"
            ]
          },
          "metadata": {}
        },
        {
          "output_type": "stream",
          "name": "stdout",
          "text": [
            "---\n",
            "\n",
            "相鐵FRESA INN 東京田町 0 1795\n",
            "位於都心重要地區連結各地方皆便利、商務觀光皆適合! 從山手線 東京站 搭乘普通電車到山手線 田町站 (8分鐘), 從山手線 田町站 步行 (4分鐘)\n"
          ]
        },
        {
          "output_type": "display_data",
          "data": {
            "text/html": [
              "<img src=\"https://image.kkday.com/image/get/w_600%2Cc_fit/s1.kkday.com/product_194855/20241009053740_8rEGz/png\" width=\"300\"/>"
            ],
            "text/plain": [
              "<IPython.core.display.Image object>"
            ]
          },
          "metadata": {}
        },
        {
          "output_type": "stream",
          "name": "stdout",
          "text": [
            "---\n",
            "\n",
            "OMO5 東京大塚 by 星野集團 0 5121\n",
            "Surrender toOtsuka's old-fashioned charm 從山手線 東京站 搭乘普通電車到山手線 大塚站 (20分鐘), 從山手線 大塚站 步行 (1分鐘)\n"
          ]
        },
        {
          "output_type": "display_data",
          "data": {
            "text/html": [
              "<img src=\"https://image.kkday.com/image/get/w_600%2Cc_fit/s1.kkday.com/product_250655/20240930163859_2RFQU/png\" width=\"300\"/>"
            ],
            "text/plain": [
              "<IPython.core.display.Image object>"
            ]
          },
          "metadata": {}
        },
        {
          "output_type": "stream",
          "name": "stdout",
          "text": [
            "---\n",
            "\n",
            "日暮里阿爾蒙特飯店 0 3126\n",
            "享受日暮里阿爾蒙特飯店的舒適住宿,便捷至東京主要景點,立即預訂,開啟您的東京之旅!\n"
          ]
        },
        {
          "output_type": "display_data",
          "data": {
            "text/html": [
              "<img src=\"https://image.kkday.com/image/get/w_600%2Cc_fit/s1.kkday.com/product_193898/20241029064831_EWA64/png\" width=\"300\"/>"
            ],
            "text/plain": [
              "<IPython.core.display.Image object>"
            ]
          },
          "metadata": {}
        },
        {
          "output_type": "stream",
          "name": "stdout",
          "text": [
            "---\n",
            "\n",
            "APA 飯店 - 京成上野站前 5 1970\n",
            "APA 飯店 - 京成上野站前,位於上野站前,方便探索東京景點。立即預訂,享受上野的都市便捷!\n"
          ]
        },
        {
          "output_type": "display_data",
          "data": {
            "text/html": [
              "<img src=\"https://image.kkday.com/image/get/w_600%2Cc_fit/s1.kkday.com/product_187328/20241002110220_WNY3P/png\" width=\"300\"/>"
            ],
            "text/plain": [
              "<IPython.core.display.Image object>"
            ]
          },
          "metadata": {}
        },
        {
          "output_type": "stream",
          "name": "stdout",
          "text": [
            "---\n",
            "\n",
            "上野御徒町超級飯店 5 2202\n",
            "上野御徒町超級飯店,靠近上野公園和博物館,便捷至東京主要景點,立即預訂,享受便利住宿!\n"
          ]
        },
        {
          "output_type": "display_data",
          "data": {
            "text/html": [
              "<img src=\"https://image.kkday.com/image/get/w_600%2Cc_fit/s1.kkday.com/product_244886/20241006071617_0EYB1/png\" width=\"300\"/>"
            ],
            "text/plain": [
              "<IPython.core.display.Image object>"
            ]
          },
          "metadata": {}
        },
        {
          "output_type": "stream",
          "name": "stdout",
          "text": [
            "---\n",
            "\n",
            "APA 飯店 - 上野站南 0 1695\n",
            "APA Hotel Ueno Ekiminami is are in a good location that is a 4 minute walk from the Ueno station. 從銀座線 上野站 步行 (4分鐘)\n"
          ]
        },
        {
          "output_type": "display_data",
          "data": {
            "text/html": [
              "<img src=\"https://image.kkday.com/image/get/w_600%2Cc_fit/s1.kkday.com/product_195297/20241009181904_fcG2A/png\" width=\"300\"/>"
            ],
            "text/plain": [
              "<IPython.core.display.Image object>"
            ]
          },
          "metadata": {}
        },
        {
          "output_type": "stream",
          "name": "stdout",
          "text": [
            "---\n",
            "\n",
            "秋葉原灣膠囊旅館 5 1189\n",
            "秋葉原灣膠囊旅館,專為女性設計的膠囊住宿,安全舒適。即刻預訂,享受便捷的秋葉原之行!\n"
          ]
        },
        {
          "output_type": "display_data",
          "data": {
            "text/html": [
              "<img src=\"https://image.kkday.com/image/get/w_600%2Cc_fit/s1.kkday.com/product_187184/20241002060713_qgqsZ/png\" width=\"300\"/>"
            ],
            "text/plain": [
              "<IPython.core.display.Image object>"
            ]
          },
          "metadata": {}
        },
        {
          "output_type": "stream",
          "name": "stdout",
          "text": [
            "---\n",
            "\n"
          ]
        }
      ]
    }
  ]
}