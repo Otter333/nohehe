{
  "nbformat": 4,
  "nbformat_minor": 0,
  "metadata": {
    "colab": {
      "provenance": [],
      "include_colab_link": true
    },
    "kernelspec": {
      "name": "python3",
      "display_name": "Python 3"
    },
    "language_info": {
      "name": "python"
    }
  },
  "cells": [
    {
      "cell_type": "markdown",
      "metadata": {
        "id": "view-in-github",
        "colab_type": "text"
      },
      "source": [
        "<a href=\"https://colab.research.google.com/github/Otter333/nohehe/blob/main/hw02.ipynb\" target=\"_parent\"><img src=\"https://colab.research.google.com/assets/colab-badge.svg\" alt=\"Open In Colab\"/></a>"
      ]
    },
    {
      "cell_type": "markdown",
      "source": [
        "# HW02 Web Crawler"
      ],
      "metadata": {
        "id": "eo72fZ0YlURV"
      }
    },
    {
      "cell_type": "markdown",
      "source": [
        "## 題目"
      ],
      "metadata": {
        "id": "gUsBAopRJMJD"
      }
    },
    {
      "cell_type": "markdown",
      "source": [
        "使用網路爬蟲與 Gradio 建立互動介面，查詢高雄市捷運車站資訊並顯示地圖位置。"
      ],
      "metadata": {
        "id": "pDHhflLyJRgS"
      }
    },
    {
      "cell_type": "markdown",
      "source": [
        "## 摘要"
      ],
      "metadata": {
        "id": "hbqT3pl04Hl9"
      }
    },
    {
      "cell_type": "markdown",
      "source": [
        "本報告透過 Python 網路爬蟲技術，自高雄市政府資料開放平台取得捷運車站的基本資訊，並儲存為結構化的 CSV 格式。進一步整合 Gradio 套件，建立可互動的選單式使用者介面，輸入車站編號即可查詢其中英文名稱與地圖位置。此系統可作為旅遊、通勤或教育用途之輔助工具。"
      ],
      "metadata": {
        "id": "eweMw-wh4TC0"
      }
    },
    {
      "cell_type": "markdown",
      "source": [
        "## 引言"
      ],
      "metadata": {
        "id": "9nb1aHAM4XiE"
      }
    },
    {
      "cell_type": "markdown",
      "source": [
        "隨著智慧城市與開放資料的興起，政府機關釋出大量有用的公共資訊。高雄市政府提供之捷運車站資料包含各站的編號、名稱與經緯度等資訊，若能透過程式自動擷取並視覺化展示，將大幅提升查詢效率與便利性。\n",
        "\n",
        "本次專案目標是：\n",
        "\n",
        "  - 利用網路爬蟲自動取得 JSON 格式的車站資料；\n",
        "\n",
        "  - 儲存為 CSV 以利分析；\n",
        "\n",
        "  - 使用 Gradio 製作互動式查詢系統，查詢車站資訊並在地圖上顯示位置。\n"
      ],
      "metadata": {
        "id": "0ZmT034r5F9R"
      }
    },
    {
      "cell_type": "markdown",
      "source": [
        "## 方法"
      ],
      "metadata": {
        "id": "8YMFd39F4n4l"
      }
    },
    {
      "cell_type": "markdown",
      "source": [
        "- 目標網站描述\n",
        "  - 網站名稱：高雄市政府資料開放平台\n",
        "\n",
        "  - 資料集連結：\n",
        "https://data.kcg.gov.tw/dataset/2629db6d-98ec-4b24-8ab1-5dc34d998460\n",
        "\n",
        "  - 資料格式：JSON，包含站點編號、中文與英文名稱、經緯度等欄位\n",
        "\n",
        "________________\n",
        "\n",
        "- 工具與技術\n",
        "  - 使用 requests 下載 JSON 資料\n",
        "\n",
        "  - 使用 csv 模組儲存為 CSV 檔\n",
        "\n",
        "  - 使用 Gradio 建立互動介面\n",
        "\n",
        "  - 使用 OpenStreetMap 顯示地理位置"
      ],
      "metadata": {
        "id": "zkix6XqZ429E"
      }
    },
    {
      "cell_type": "markdown",
      "source": [
        "- 從高雄市政府網站下載 JSON 資料\n",
        "\n",
        "  - 說明：這段程式會將高雄市政府資料平台提供的捷運車站 JSON 檔案下載下來，轉換為 Python 資料格式（list of dictionaries），作為後續儲存與處理的基礎。\n"
      ],
      "metadata": {
        "id": "q3yZsQ12OHhY"
      }
    },
    {
      "cell_type": "code",
      "source": [
        "import requests\n",
        "\n",
        "# 資料來源 URL（高雄市捷運站點資料，JSON 格式）\n",
        "url = 'https://data.kcg.gov.tw/dataset/2629db6d-98ec-4b24-8ab1-5dc34d998460/resource/662f822c-632b-4cb3-80f6-b5ac053d210b/download/11311.json'\n",
        "\n",
        "# 發送 GET 請求下載資料\n",
        "response = requests.get(url)\n",
        "\n",
        "# 確認回應狀態碼為 200 表示成功\n",
        "response.status_code\n",
        "\n",
        "# 將 JSON 轉為 Python list 儲存\n",
        "stats = response.json()\n",
        "\n",
        "# 檢查第一筆資料內容\n",
        "stats[0]\n"
      ],
      "metadata": {
        "id": "ziaWIQ0t8vKt"
      },
      "execution_count": null,
      "outputs": []
    },
    {
      "cell_type": "markdown",
      "source": [
        "- 將 JSON 資料儲存為 CSV 檔案\n",
        "\n",
        "  - 說明：這段將剛剛下載的 JSON 資料，依照每一欄的欄位名稱與資料內容，儲存為一個 stats.csv 檔案，方便後續查詢與處理。\n"
      ],
      "metadata": {
        "id": "uNm6Rg4oOO37"
      }
    },
    {
      "cell_type": "code",
      "source": [
        "import csv\n",
        "\n",
        "# 建立要寫入的資料列表，第一列為欄位名稱\n",
        "wtr = []\n",
        "wtr.append(list(stats[0].keys()))  # 加入欄位名稱\n",
        "for it in stats:\n",
        "    wtr.append(list(it.values()))  # 每筆資料轉為 list 加入\n",
        "\n",
        "# 將資料寫入 stats.csv\n",
        "with open('stats.csv', 'w', newline='') as f:\n",
        "    writer = csv.writer(f)\n",
        "    writer.writerows(wtr)"
      ],
      "metadata": {
        "id": "MFbGLDzxOgt7"
      },
      "execution_count": null,
      "outputs": []
    },
    {
      "cell_type": "markdown",
      "source": [
        "- 重新讀取 CSV 檔案以供查詢使用\n",
        "\n",
        "  - 說明：這段程式把 stats.csv 重新讀回記憶體，儲存在 stats 這個變數中。之後會用這份資料製作互動介面。"
      ],
      "metadata": {
        "id": "lkWqNfnpOw0U"
      }
    },
    {
      "cell_type": "code",
      "source": [
        "import csv\n",
        "\n",
        "# 讀取剛儲存好的 CSV 檔\n",
        "with open(\"stats.csv\", \"r\") as file:\n",
        "    reader = csv.reader(file)\n",
        "    stats = list(reader)  # 將 CSV 資料讀成 list，stats[0] 是標題列"
      ],
      "metadata": {
        "id": "jb6CYeBOO4mz"
      },
      "execution_count": null,
      "outputs": []
    },
    {
      "cell_type": "markdown",
      "source": [
        "- 安裝 Gradio 套件\n",
        "\n",
        "  - 說明：安裝 Gradio 套件，以便建立 Web 互動式使用者介面（UI）。這行在 Colab 環境中執行即可安裝。\n",
        "\n"
      ],
      "metadata": {
        "id": "HiWdH1nQO9Qt"
      }
    },
    {
      "cell_type": "code",
      "source": [
        "!pip install gradio -q"
      ],
      "metadata": {
        "id": "Eg5HWYxZPDhP"
      },
      "execution_count": null,
      "outputs": []
    },
    {
      "cell_type": "markdown",
      "source": [
        "- 定義查詢功能與地圖顯示函數\n",
        "\n",
        "  - 說明：\n",
        "\n",
        "    stat_info()：根據使用者選擇的車站 ID，回傳車站編號、中文名稱、英文名稱與地圖 HTML。\n",
        "\n",
        "    get_html()：依據經緯度產生 OpenStreetMap 地圖 iframe，用於嵌入頁面。\n",
        "\n"
      ],
      "metadata": {
        "id": "Ii_QVNTFPGWe"
      }
    },
    {
      "cell_type": "code",
      "source": [
        "import gradio as gr\n",
        "\n",
        "# 查詢指定車站 ID 的資訊與地圖\n",
        "def stat_info(id):\n",
        "    info = ''\n",
        "    for it in stats[1:]:  # stats[0] 是欄位名稱，跳過\n",
        "        if it[1] == id:  # it[1] 是車站編號\n",
        "            info = f'車站編號: {it[1]}\\n中文名稱: {it[2]}\\n英文名稱: {it[3]}'\n",
        "            html = get_html(it[4], it[5])  # it[4] = 緯度, it[5] = 經度\n",
        "    return info, html\n",
        "\n",
        "# 根據經緯度產生 OpenStreetMap 地圖 iframe HTML\n",
        "def get_html(lat, lon):\n",
        "    lat = float(lat)\n",
        "    lon = float(lon)\n",
        "    html = f'''\n",
        "    <div style=\"width: 100%; height: 400px;\">\n",
        "        <iframe\n",
        "            width=\"100%\"\n",
        "            height=\"100%\"\n",
        "            frameborder=\"0\"\n",
        "            scrolling=\"no\"\n",
        "            marginheight=\"0\"\n",
        "            marginwidth=\"0\"\n",
        "            src=\"https://www.openstreetmap.org/export/embed.html?bbox={lon-0.01}%2C{lat-0.01}%2C{lon+0.01}%2C{lat+0.01}&layer=mapnik&marker={lat}%2C{lon}\">\n",
        "        </iframe>\n",
        "    </div>\n",
        "    '''\n",
        "    return html"
      ],
      "metadata": {
        "id": "o9AfpIENPNrG"
      },
      "execution_count": null,
      "outputs": []
    },
    {
      "cell_type": "markdown",
      "source": [
        "- 建立 Gradio 互動式選單介面\n",
        "\n",
        "  - 說明：\n",
        "  這是本專案的核心介面，使用 Gradio 提供簡單的下拉選單，使用者選擇車站編號後會顯示：\n",
        "\n",
        "    車站資訊（編號、中英文名稱）對應位置的地圖"
      ],
      "metadata": {
        "id": "CYS4cUMpPRFd"
      }
    },
    {
      "cell_type": "code",
      "source": [
        "# 準備所有車站編號作為選單選項\n",
        "menu = []\n",
        "for it in stats[1:]:\n",
        "    menu.append(it[1])  # it[1] 為車站 ID\n",
        "\n",
        "# 建立 Gradio 介面\n",
        "gr.Interface(\n",
        "    fn=stat_info,  # 查詢函數\n",
        "    inputs=gr.Dropdown(choices=menu, label=\"車站編號: \"),  # 使用 dropdown 讓使用者選擇車站\n",
        "    outputs=[gr.Textbox(label=\"車站資訊\"), gr.HTML(label=\"車站地圖\")]  # 顯示文字與地圖\n",
        ").launch()"
      ],
      "metadata": {
        "id": "NfRQPYohPYxi"
      },
      "execution_count": null,
      "outputs": []
    },
    {
      "cell_type": "markdown",
      "source": [
        "## 結果\n"
      ],
      "metadata": {
        "id": "mHEo_iad7QMa"
      }
    },
    {
      "cell_type": "markdown",
      "source": [
        "- 資料存儲方式\n",
        "\n",
        "  - 所有車站資料已儲存為 stats.csv，內容包含："
      ],
      "metadata": {
        "id": "Fx3h33cU8n8t"
      }
    },
    {
      "cell_type": "markdown",
      "source": [
        "\n",
        "| 車站編號   | 中文名稱 | 英文名稱              | 緯度      | 經度       |\n",
        "| ---------- | -------- | --------------------- | --------- | ---------- |\n",
        "| R3         | 小港     | Siaogang              | 22.5653   | 120.3377   |\n",
        "| R10/A3     | 美麗島   | Formosa Boulevard     | 22.6306   | 120.3014   |\n",
        "| ...        | ...      | ...                   | ...       | ...        |\n"
      ],
      "metadata": {
        "id": "ja7rh4ztP5j7"
      }
    },
    {
      "cell_type": "markdown",
      "source": [
        "- 查詢介面\n",
        "\n",
        "  - 可透過下拉選單選擇站點\n",
        "\n",
        "  - 顯示站名與 OpenStreetMap 標記地圖"
      ],
      "metadata": {
        "id": "U1mwIiNVQ5Qd"
      }
    },
    {
      "cell_type": "code",
      "source": [
        "# 匯入模組\n",
        "import json, csv\n",
        "import gradio as gr\n",
        "\n",
        "# 讀取本地 JSON 檔\n",
        "with open('/content/11311.json', 'r', encoding='utf-8') as f:\n",
        "    stats_json = json.load(f)\n",
        "\n",
        "# 寫入 CSV\n",
        "wtr = [list(stats_json[0].keys())]\n",
        "for it in stats_json:\n",
        "    wtr.append(list(it.values()))\n",
        "\n",
        "with open('stats.csv', 'w', newline='') as f:\n",
        "    writer = csv.writer(f)\n",
        "    writer.writerows(wtr)\n",
        "\n",
        "# 重新讀取 CSV 為 list\n",
        "with open('stats.csv', 'r') as file:\n",
        "    reader = csv.reader(file)\n",
        "    stats = list(reader)\n",
        "\n",
        "# 定義地圖 HTML\n",
        "def get_html(lat, lon):\n",
        "    lat = float(lat)\n",
        "    lon = float(lon)\n",
        "    html = f'''\n",
        "    <div style=\"width: 100%; height: 400px;\">\n",
        "        <iframe\n",
        "            width=\"100%\"\n",
        "            height=\"100%\"\n",
        "            frameborder=\"0\"\n",
        "            scrolling=\"no\"\n",
        "            marginheight=\"0\"\n",
        "            marginwidth=\"0\"\n",
        "            src=\"https://www.openstreetmap.org/export/embed.html?bbox={lon-0.01}%2C{lat-0.01}%2C{lon+0.01}%2C{lat+0.01}&layer=mapnik&marker={lat}%2C{lon}\">\n",
        "        </iframe>\n",
        "    </div>\n",
        "    '''\n",
        "    return html\n",
        "\n",
        "# 查詢車站資訊\n",
        "def stat_info(id):\n",
        "    info = '查無資料'\n",
        "    html = ''\n",
        "    for it in stats[1:]:\n",
        "        if it[1] == id:\n",
        "            info = f'車站編號: {it[1]}\\n中文名稱: {it[2]}\\n英文名稱: {it[3]}'\n",
        "            html = get_html(it[4], it[5])\n",
        "            break\n",
        "    return info, html\n",
        "\n",
        "# 建立介面\n",
        "menu = [it[1] for it in stats[1:]]\n",
        "gr.Interface(\n",
        "    fn=stat_info,\n",
        "    inputs=gr.Dropdown(choices=menu, label=\"車站編號:\"),\n",
        "    outputs=[gr.Textbox(label=\"車站資訊\"), gr.HTML(label=\"車站地圖\")]\n",
        ").launch()\n"
      ],
      "metadata": {
        "id": "jsLbLuSa8mnY",
        "colab": {
          "base_uri": "https://localhost:8080/",
          "height": 625
        },
        "outputId": "a7b5955b-e9d5-41d6-b991-41ee253d5c52"
      },
      "execution_count": 7,
      "outputs": [
        {
          "output_type": "stream",
          "name": "stdout",
          "text": [
            "It looks like you are running Gradio on a hosted a Jupyter notebook. For the Gradio app to work, sharing must be enabled. Automatically setting `share=True` (you can turn this off by setting `share=False` in `launch()` explicitly).\n",
            "\n",
            "Colab notebook detected. To show errors in colab notebook, set debug=True in launch()\n",
            "* Running on public URL: https://d2c51557eeab7e06c6.gradio.live\n",
            "\n",
            "This share link expires in 1 week. For free permanent hosting and GPU upgrades, run `gradio deploy` from the terminal in the working directory to deploy to Hugging Face Spaces (https://huggingface.co/spaces)\n"
          ]
        },
        {
          "output_type": "display_data",
          "data": {
            "text/plain": [
              "<IPython.core.display.HTML object>"
            ],
            "text/html": [
              "<div><iframe src=\"https://d2c51557eeab7e06c6.gradio.live\" width=\"100%\" height=\"500\" allow=\"autoplay; camera; microphone; clipboard-read; clipboard-write;\" frameborder=\"0\" allowfullscreen></iframe></div>"
            ]
          },
          "metadata": {}
        },
        {
          "output_type": "execute_result",
          "data": {
            "text/plain": []
          },
          "metadata": {},
          "execution_count": 7
        }
      ]
    },
    {
      "cell_type": "markdown",
      "source": [
        "## 問題與挑戰"
      ],
      "metadata": {
        "id": "6yHFop_b73gY"
      }
    },
    {
      "cell_type": "markdown",
      "source": [
        "- 技術挑戰\n",
        "  - 原始資料為 JSON 格式，需解析後儲存\n",
        "\n",
        "  - Gradio 中地圖顯示需嵌入 HTML iframe 並計算地圖範圍\n",
        "\n",
        "- 資料限制\n",
        "  - 部分車站缺乏完整地點描述\n",
        "\n",
        "  - 地圖僅以經緯度標記，無街景或照片補充"
      ],
      "metadata": {
        "id": "D6roihku8PBu"
      }
    },
    {
      "cell_type": "markdown",
      "source": [
        "## 結論"
      ],
      "metadata": {
        "id": "VeQHgVuqqD3J"
      }
    },
    {
      "cell_type": "markdown",
      "source": [
        "本專案成功從高雄市政府開放資料平台擷取捷運車站資料，並建立互動式介面供使用者查詢與定位。此系統具備良好的可擴充性，未來可加入路線資訊、車站出口照片等，進一步提升實用價值。亦可應用於其他城市或不同類型的開放資料。"
      ],
      "metadata": {
        "id": "Baea2g7J9DAL"
      }
    },
    {
      "cell_type": "markdown",
      "source": [
        "## 參考文獻"
      ],
      "metadata": {
        "id": "j5hI_9QW9dTt"
      }
    },
    {
      "cell_type": "markdown",
      "source": [
        "高雄市政府資料開放平台：https://data.kcg.gov.tw\n",
        "\n",
        "Python Requests 文件：https://docs.python-requests.org/\n",
        "\n",
        "Gradio 官方文件：https://www.gradio.app\n",
        "\n",
        "OpenStreetMap：https://www.openstreetmap.org\n",
        "\n"
      ],
      "metadata": {
        "id": "eLFvp2Fk9fSa"
      }
    }
  ]
}