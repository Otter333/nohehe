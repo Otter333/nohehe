{
  "nbformat": 4,
  "nbformat_minor": 0,
  "metadata": {
    "colab": {
      "provenance": [],
      "authorship_tag": "ABX9TyOweh6FN0Bcvi+da9TrET4r",
      "include_colab_link": true
    },
    "kernelspec": {
      "name": "python3",
      "display_name": "Python 3"
    },
    "language_info": {
      "name": "python"
    }
  },
  "cells": [
    {
      "cell_type": "markdown",
      "metadata": {
        "id": "view-in-github",
        "colab_type": "text"
      },
      "source": [
        "<a href=\"https://colab.research.google.com/github/Otter333/nohehe/blob/main/EX01_02_BMI_%E8%A8%88%E7%AE%97.ipynb\" target=\"_parent\"><img src=\"https://colab.research.google.com/assets/colab-badge.svg\" alt=\"Open In Colab\"/></a>"
      ]
    },
    {
      "cell_type": "code",
      "execution_count": 2,
      "metadata": {
        "colab": {
          "base_uri": "https://localhost:8080/"
        },
        "id": "s_7wyN07K3Pf",
        "outputId": "55f7ccfa-a6da-461b-c41d-7237df088f16"
      },
      "outputs": [
        {
          "output_type": "stream",
          "name": "stdout",
          "text": [
            "height(cm)171.0\n",
            "weight(cm)54\n",
            "BMI: 18.5\n"
          ]
        }
      ],
      "source": [
        "ht=float(input('height(cm)'))\n",
        "wt=float(input('weight(cm)'))\n",
        "bmi=wt/(ht/100)**2\n",
        "print('BMI:',round(bmi,1))"
      ]
    }
  ]
}