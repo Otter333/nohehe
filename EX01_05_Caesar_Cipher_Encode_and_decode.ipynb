{
  "nbformat": 4,
  "nbformat_minor": 0,
  "metadata": {
    "colab": {
      "provenance": [],
      "authorship_tag": "ABX9TyNQNT8Pz0DZK1dBT6Oz1xsW",
      "include_colab_link": true
    },
    "kernelspec": {
      "name": "python3",
      "display_name": "Python 3"
    },
    "language_info": {
      "name": "python"
    }
  },
  "cells": [
    {
      "cell_type": "markdown",
      "metadata": {
        "id": "view-in-github",
        "colab_type": "text"
      },
      "source": [
        "<a href=\"https://colab.research.google.com/github/Otter333/nohehe/blob/main/EX01_05_Caesar_Cipher_Encode_and_decode.ipynb\" target=\"_parent\"><img src=\"https://colab.research.google.com/assets/colab-badge.svg\" alt=\"Open In Colab\"/></a>"
      ]
    },
    {
      "cell_type": "code",
      "execution_count": 13,
      "metadata": {
        "colab": {
          "base_uri": "https://localhost:8080/"
        },
        "id": "O0MC3ojlIjmp",
        "outputId": "c186c890-f382-4cd4-9399-3082b286a975"
      },
      "outputs": [
        {
          "output_type": "stream",
          "name": "stdout",
          "text": [
            "d8\n",
            " (pmttw6\n",
            "\u0018 hello.\n"
          ]
        }
      ],
      "source": [
        "act=input()\n",
        "txt=input()\n",
        "act_type=act[0]\n",
        "key=int(act[1:])\n",
        "ntxt=''\n",
        "if act_type=='d':\n",
        "    for c in txt:\n",
        "      nc=ord(c)-key\n",
        "      ntxt=ntxt+chr(nc)\n",
        "else:\n",
        "  for c in txt:\n",
        "    nc=ord(c)+key\n",
        "    ntxt=ntxt+chr(nc)\n",
        "print(ntxt)"
      ]
    }
  ]
}